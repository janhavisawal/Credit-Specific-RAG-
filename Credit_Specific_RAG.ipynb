{
  "nbformat": 4,
  "nbformat_minor": 0,
  "metadata": {
    "colab": {
      "provenance": [],
      "gpuType": "T4"
    },
    "kernelspec": {
      "name": "python3",
      "display_name": "Python 3"
    },
    "language_info": {
      "name": "python"
    },
    "accelerator": "GPU"
  },
  "cells": [
    {
      "cell_type": "code",
      "execution_count": 1,
      "metadata": {
        "colab": {
          "base_uri": "https://localhost:8080/"
        },
        "id": "e6sXcczOjxpG",
        "outputId": "4edc9b72-de5c-4ddb-b982-06f940de175f"
      },
      "outputs": [
        {
          "output_type": "stream",
          "name": "stdout",
          "text": [
            "Requirement already satisfied: torch in /usr/local/lib/python3.10/dist-packages (2.4.1+cu121)\n",
            "Requirement already satisfied: transformers in /usr/local/lib/python3.10/dist-packages (4.44.2)\n",
            "Collecting faiss-cpu\n",
            "  Downloading faiss_cpu-1.9.0-cp310-cp310-manylinux_2_17_x86_64.manylinux2014_x86_64.whl.metadata (4.4 kB)\n",
            "Collecting sentence-transformers\n",
            "  Downloading sentence_transformers-3.2.0-py3-none-any.whl.metadata (10 kB)\n",
            "Requirement already satisfied: filelock in /usr/local/lib/python3.10/dist-packages (from torch) (3.16.1)\n",
            "Requirement already satisfied: typing-extensions>=4.8.0 in /usr/local/lib/python3.10/dist-packages (from torch) (4.12.2)\n",
            "Requirement already satisfied: sympy in /usr/local/lib/python3.10/dist-packages (from torch) (1.13.3)\n",
            "Requirement already satisfied: networkx in /usr/local/lib/python3.10/dist-packages (from torch) (3.3)\n",
            "Requirement already satisfied: jinja2 in /usr/local/lib/python3.10/dist-packages (from torch) (3.1.4)\n",
            "Requirement already satisfied: fsspec in /usr/local/lib/python3.10/dist-packages (from torch) (2024.6.1)\n",
            "Requirement already satisfied: huggingface-hub<1.0,>=0.23.2 in /usr/local/lib/python3.10/dist-packages (from transformers) (0.24.7)\n",
            "Requirement already satisfied: numpy>=1.17 in /usr/local/lib/python3.10/dist-packages (from transformers) (1.26.4)\n",
            "Requirement already satisfied: packaging>=20.0 in /usr/local/lib/python3.10/dist-packages (from transformers) (24.1)\n",
            "Requirement already satisfied: pyyaml>=5.1 in /usr/local/lib/python3.10/dist-packages (from transformers) (6.0.2)\n",
            "Requirement already satisfied: regex!=2019.12.17 in /usr/local/lib/python3.10/dist-packages (from transformers) (2024.9.11)\n",
            "Requirement already satisfied: requests in /usr/local/lib/python3.10/dist-packages (from transformers) (2.32.3)\n",
            "Requirement already satisfied: safetensors>=0.4.1 in /usr/local/lib/python3.10/dist-packages (from transformers) (0.4.5)\n",
            "Requirement already satisfied: tokenizers<0.20,>=0.19 in /usr/local/lib/python3.10/dist-packages (from transformers) (0.19.1)\n",
            "Requirement already satisfied: tqdm>=4.27 in /usr/local/lib/python3.10/dist-packages (from transformers) (4.66.5)\n",
            "Requirement already satisfied: scikit-learn in /usr/local/lib/python3.10/dist-packages (from sentence-transformers) (1.5.2)\n",
            "Requirement already satisfied: scipy in /usr/local/lib/python3.10/dist-packages (from sentence-transformers) (1.13.1)\n",
            "Requirement already satisfied: Pillow in /usr/local/lib/python3.10/dist-packages (from sentence-transformers) (10.4.0)\n",
            "Requirement already satisfied: MarkupSafe>=2.0 in /usr/local/lib/python3.10/dist-packages (from jinja2->torch) (2.1.5)\n",
            "Requirement already satisfied: charset-normalizer<4,>=2 in /usr/local/lib/python3.10/dist-packages (from requests->transformers) (3.3.2)\n",
            "Requirement already satisfied: idna<4,>=2.5 in /usr/local/lib/python3.10/dist-packages (from requests->transformers) (3.10)\n",
            "Requirement already satisfied: urllib3<3,>=1.21.1 in /usr/local/lib/python3.10/dist-packages (from requests->transformers) (2.2.3)\n",
            "Requirement already satisfied: certifi>=2017.4.17 in /usr/local/lib/python3.10/dist-packages (from requests->transformers) (2024.8.30)\n",
            "Requirement already satisfied: joblib>=1.2.0 in /usr/local/lib/python3.10/dist-packages (from scikit-learn->sentence-transformers) (1.4.2)\n",
            "Requirement already satisfied: threadpoolctl>=3.1.0 in /usr/local/lib/python3.10/dist-packages (from scikit-learn->sentence-transformers) (3.5.0)\n",
            "Requirement already satisfied: mpmath<1.4,>=1.1.0 in /usr/local/lib/python3.10/dist-packages (from sympy->torch) (1.3.0)\n",
            "Downloading faiss_cpu-1.9.0-cp310-cp310-manylinux_2_17_x86_64.manylinux2014_x86_64.whl (27.5 MB)\n",
            "\u001b[2K   \u001b[90m━━━━━━━━━━━━━━━━━━━━━━━━━━━━━━━━━━━━━━━━\u001b[0m \u001b[32m27.5/27.5 MB\u001b[0m \u001b[31m17.3 MB/s\u001b[0m eta \u001b[36m0:00:00\u001b[0m\n",
            "\u001b[?25hDownloading sentence_transformers-3.2.0-py3-none-any.whl (255 kB)\n",
            "\u001b[2K   \u001b[90m━━━━━━━━━━━━━━━━━━━━━━━━━━━━━━━━━━━━━━━━\u001b[0m \u001b[32m255.2/255.2 kB\u001b[0m \u001b[31m7.0 MB/s\u001b[0m eta \u001b[36m0:00:00\u001b[0m\n",
            "\u001b[?25hInstalling collected packages: faiss-cpu, sentence-transformers\n",
            "Successfully installed faiss-cpu-1.9.0 sentence-transformers-3.2.0\n"
          ]
        }
      ],
      "source": [
        "pip install torch transformers faiss-cpu sentence-transformers pymupdf\n"
      ]
    },
    {
      "cell_type": "code",
      "source": [
        "import torch\n",
        "from transformers import BertTokenizer, BertForSequenceClassification, RagTokenizer, RagRetriever, RagSequenceForGeneration\n",
        "from sentence_transformers import SentenceTransformer\n",
        "import faiss\n",
        "import fitz  # PyMuPDF\n",
        "from sentence_transformers import SentenceTransformer\n",
        "import numpy as np\n",
        "from transformers import GPT2LMHeadModel, GPT2Tokenizer\n"
      ],
      "metadata": {
        "id": "NEsiWviqwepS"
      },
      "execution_count": 2,
      "outputs": []
    },
    {
      "cell_type": "code",
      "source": [
        "\n",
        "import fitz  # PyMuPDF\n",
        "\n",
        "def extract_pdf_chunks(pdf_path, words_per_chunk=100):\n",
        "    \"\"\"\n",
        "    Extract and chunk text from a PDF file using PyMuPDF, creating chunks of approximately a specified number of words.\n",
        "\n",
        "    Parameters:\n",
        "        pdf_path (str): The file path of the PDF to be processed.\n",
        "        words_per_chunk (int): The approximate number of words per chunk.\n",
        "\n",
        "    Returns:\n",
        "        list: A list of text chunks extracted from the PDF.\n",
        "    \"\"\"\n",
        "    try:\n",
        "        # Open the PDF document\n",
        "        doc = fitz.open(pdf_path)\n",
        "        chunks = []\n",
        "        current_chunk = []\n",
        "\n",
        "        # Loop through each page in the document\n",
        "        for page_num in range(len(doc)):\n",
        "            page = doc.load_page(page_num)\n",
        "            text = page.get_text(\"text\")\n",
        "\n",
        "            # Split text into words to control chunk size\n",
        "            words = text.split()\n",
        "            for word in words:\n",
        "                current_chunk.append(word)\n",
        "                # When the chunk reaches the desired size, join the words into a string and add it to chunks\n",
        "                if len(current_chunk) >= words_per_chunk:\n",
        "                    chunks.append(' '.join(current_chunk))\n",
        "                    current_chunk = []  # Reset the current chunk\n",
        "\n",
        "        # Add any remaining words as the last chunk\n",
        "        if current_chunk:\n",
        "            chunks.append(' '.join(current_chunk))\n",
        "\n",
        "        return chunks\n",
        "\n",
        "    except Exception as e:\n",
        "        print(f\"An error occurred while processing the PDF: {e}\")\n",
        "        return []\n",
        "\n",
        "# Example usage\n",
        "pdf_path = '/content/IGBC_Green_New_Buildings_Rating_System_(Version_3.0_with_Fifth_Addendum) (1).pdf'\n",
        "chunks = extract_pdf_chunks(pdf_path)\n",
        "#print(f\"Extracted {len(chunks)} chunks from the PDF.\")"
      ],
      "metadata": {
        "id": "0sC48-SDwGeN"
      },
      "execution_count": 9,
      "outputs": []
    },
    {
      "cell_type": "code",
      "source": [
        "\n",
        "# Define a taxonomy for green building credits\n",
        "green_building_credits = {\n",
        "    'energy_efficiency': ['energy saving', 'efficiency', 'consumption', 'lighting', 'HVAC'],\n",
        "    'water_conservation': ['water saving', 'conservation', 'reuse', 'rainwater', 'irrigation'],\n",
        "    'sustainable_materials': ['recycled materials', 'eco-friendly', 'sustainable', 'green materials'],\n",
        "    'indoor_air_quality': ['ventilation', 'air quality', 'filters', 'pollutants'],\n",
        "}\n",
        "\n",
        "# Function to classify chunks based on keywords in the taxonomy\n",
        "def classify_chunk(chunk, taxonomy):\n",
        "    categories = []\n",
        "    for category, keywords in taxonomy.items():\n",
        "        if any(keyword.lower() in chunk.lower() for keyword in keywords):\n",
        "            categories.append(category)\n",
        "    return categories\n",
        "\n",
        "# Classify each chunk with its relevant categories\n",
        "classified_chunks = [(chunk, classify_chunk(chunk, green_building_credits)) for chunk in chunks]\n",
        "\n",
        "# Load a pre-trained Sentence Transformer model\n",
        "model = SentenceTransformer('all-MiniLM-L6-v2')\n",
        "\n",
        "# Generate embeddings for each chunk\n",
        "chunk_embeddings = model.encode([chunk[0] for chunk in classified_chunks])\n",
        "\n",
        "# Create a FAISS index for fast retrieval\n",
        "dimension = chunk_embeddings.shape[1]\n",
        "index = faiss.IndexFlatL2(dimension)\n",
        "index.add(np.array(chunk_embeddings))\n",
        "\n",
        "def retrieve_relevant_chunks(query, top_n=5):\n",
        "    query_embedding = model.encode([query])\n",
        "\n",
        "    # Check for dimension compatibility\n",
        "    if query_embedding.shape[1] != chunk_embeddings.shape[1]:\n",
        "        raise ValueError(f\"Query embedding dimension mismatch: expected {chunk_embeddings.shape[1]}, got {query_embedding.shape[1]}\")\n",
        "\n",
        "    # Perform the search on the FAISS index\n",
        "    distances, indices = index.search(np.array(query_embedding), top_n)\n",
        "\n",
        "    # Handle case where no matches are found or indices are out of range\n",
        "    relevant_chunks = []\n",
        "    for i, dist in zip(indices[0], distances[0]):\n",
        "        if i < len(classified_chunks):\n",
        "            relevant_chunks.append((classified_chunks[i][0], dist))\n",
        "        else:\n",
        "            print(f\"Warning: Index {i} is out of range, skipping this result.\")\n",
        "\n",
        "    if not relevant_chunks:\n",
        "        print(\"No relevant chunks found for the given query.\")\n",
        "    return relevant_chunks\n",
        "\n",
        "\n",
        "\n",
        "def generate_response(query, relevant_chunks, model_name='gpt2', max_input_length=1024, max_new_tokens=300):\n",
        "    # Load the pre-trained GPT-2 model and tokenizer\n",
        "    tokenizer = GPT2Tokenizer.from_pretrained(model_name)\n",
        "    model = GPT2LMHeadModel.from_pretrained(model_name)\n",
        "\n",
        "    # Set the padding token to be the same as the end-of-sequence token (if not already set)\n",
        "    tokenizer.pad_token = tokenizer.eos_token\n",
        "\n",
        "    # Combine the query and retrieved chunks to create the input for the language model\n",
        "    context = query + '\\n\\n' + '\\n'.join([chunk for chunk, _ in relevant_chunks])\n",
        "\n",
        "    # Encode the context into input_ids\n",
        "    input_ids = tokenizer.encode(context, return_tensors='pt')\n",
        "\n",
        "    # Check if any token index is out of the model's vocabulary range\n",
        "    max_token_id = len(tokenizer) - 1  # Maximum valid token ID for the model's vocabulary\n",
        "    if torch.max(input_ids) > max_token_id:\n",
        "        print(\"Warning: Some tokens are out of the model's vocabulary range. Adjusting tokens to fit the model.\")\n",
        "        input_ids = torch.clamp(input_ids, max=max_token_id)  # Ensure all token IDs are within range\n",
        "\n",
        "    # Truncate the input_ids if it exceeds the maximum length allowed by the model\n",
        "    if input_ids.shape[1] > max_input_length:\n",
        "        print(f\"Input length exceeds the maximum of {max_input_length} tokens. Truncating the input...\")\n",
        "        input_ids = input_ids[:, :max_input_length]\n",
        "\n",
        "    # Create the attention mask for the input_ids\n",
        "    attention_mask = input_ids.ne(tokenizer.pad_token_id).long()\n",
        "\n",
        "    # Generate a response using the language model with the attention mask\n",
        "    output = model.generate(\n",
        "        input_ids,\n",
        "        attention_mask=attention_mask,\n",
        "        max_new_tokens=max_new_tokens,\n",
        "        num_return_sequences=1\n",
        "    )\n",
        "\n",
        "    # Decode the output to generate the final response text\n",
        "    generated_text = tokenizer.decode(output[0], skip_special_tokens=True)\n",
        "    return generated_text\n",
        "\n",
        "# Example usage\n",
        "query = \"energy efficiency in buildings\"\n",
        "relevant_chunks = retrieve_relevant_chunks(query)\n",
        "#relevant_chunks = [(\"Energy-efficient HVAC systems can reduce power consumption significantly.\", 0.85),\n",
        "#                   (\"Lighting upgrades in commercial spaces lead to lower energy costs.\", 0.75)]\n",
        "\n",
        "# Generate the response using the function\n",
        "response = generate_response(query, relevant_chunks)\n",
        "print(f\"Generated response: {response}\")\n",
        "\n",
        "\n",
        "\n",
        "\n",
        "\n",
        "\n",
        "\n",
        "# Example query for retrieving relevant chunks\n",
        "#query = \"energy efficiency in buildings\"\n",
        "\n",
        "\n",
        "\n"
      ],
      "metadata": {
        "colab": {
          "base_uri": "https://localhost:8080/"
        },
        "id": "7yEQ3xp6j4cO",
        "outputId": "504f9e72-294a-4e30-b58e-891dd707cbb5"
      },
      "execution_count": 11,
      "outputs": [
        {
          "output_type": "stream",
          "name": "stderr",
          "text": [
            "Setting `pad_token_id` to `eos_token_id`:50256 for open-end generation.\n"
          ]
        },
        {
          "output_type": "stream",
          "name": "stdout",
          "text": [
            "Generated response: energy efficiency in buildings\n",
            "\n",
            "Green Building Council Minimum Energy Efficiency EE Mandatory Requirement 2 Intent: Optimise energy consumption, to reduce negative environmental impacts from excessive energy use. Compliance Options:  Case A - Air-conditioned Buildings: Design the building to comply with Energy Conservation Building Code (Revised Version May, 2008) (or) ASHRAE Standard 90.1-2010 (without amendments) through one of the following approaches: ¾ Option 1 - Performance based approach (Whole building simulation) ¾ Option 2 - Prescriptive approach The total annual energy consumption of the building should not exceed the total base case energy consumption computed, as per ECBC (or) ASHRAE Standard 90.1-2010. Note: •\n",
            "capacity of all HVAC or refrigeration (kW) (or) Total gross AHRI rated cooling capacity of all HVAC or refrigeration • Small HVAC units (containing less than 0.25 kg of refrigerant) need not be considered in calculation. Exemplary Performance: This credit is not eligible for exemplary performance. ENERGY EFFICIENCY 78 Indian Green Building Council Enhanced Energy Efficiency EE Credit 2 Points: 1-15 Intent: Optimise energy consumption, to reduce negative environmental impacts from excessive energy use. Compliance Options:  Case A - Air-conditioned Buildings: Design the building to comply with ASHRAE Standard 90.1-2010, Appendix - G (without amendments) through Performance based approach\n",
            "cooling / heating technologies (Eg: wind tower, earth tunnel, geothermal technologies) Points are awarded as below: Percentage of Energy Savings achieved Points through Passive Architecture > 2% 1 > 4% 2  Option 2: Prescriptive Approach Demonstrate that the project has implemented at least one of the following passive measures that result in energy savings: (1 point for each measure; maximum 2 points) SUSTAINABLE ARCHITECTURE AND DESIGN 24 Indian Green Building Council ¾ Exterior Openings: At least 80% of the exterior openings (fenestration) have a Projection Factor* of 0.5 or more *Projection Factor is a ratio of the length of\n",
            "or Prescriptive approach. o Owner-occupied buildings following Prescriptive approach should estimate the total annual energy consumption of the building by calculating the energy consumption of all mechanical and electrical equipment & systems based on the number of hours of operation per day. o Tenant-occupied buildings following Prescriptive approach should estimate the total annual lighting energy consumption of the building by calculating the energy ENERGY EFFICIENCY 84 Indian Green Building Council consumption of all lighting fixtures (including lighting fixtures in tenant-occupied spaces and exterior lighting fixtures) based on the number of hours of operation per day. Exemplary Performance: This credit is\n",
            "o Tenant-occupied buildings following Prescriptive approach should estimate the total annual lighting energy consumption of the building by calculating the energy consumption of all lighting fixtures (including lighting fixtures in tenant-occupied spaces and exterior lighting fixtures) based on the number of hours of operation per day. Exemplary Performance: This credit is eligible for exemplary performance under ID Credit 1 - Innovation in Design Process, if: ¾ Owner-occupied buildings: Demonstrate that the project has purchased Renewable Energy Certificates (RECs) equivalent to at least 75% of the total annual energy consumption of the building. ¾ Tenant-occupied buildings: Demonstrate that the project has purchased Renewable Energy Certificates equivalent to at least 75% of the total annual energy consumption of the building. ¾ Exterior Openings: At least 80% of the exterior openings (fenestration) have a Projection Factor* of 0.5 or more *Projection Factor is a ratio of the length of or Prescriptive approach. o Owner-occupied buildings following Prescriptive approach should estimate the total annual lighting energy consumption of the building by calculating the energy ENERGY EFFICIENCY 85 Indian Green Building Council consumption of all lighting fixtures (including lighting fixtures in tenant-occupied spaces and exterior lighting fixtures) based on the number of hours of operation per day. Exemplary Performance: This credit is eligible for exemplary performance under ID Credit 1 - Innovation in Design Process, if: ¾ Owner-occupied buildings: Demonstrate that the project has purchased Renewable Energy Certificates equivalent to at least 75% of the total annual energy consumption of the building. ¾ Tenant-occupied buildings: Demonstrate that the project has purchased Renewable Energy Certificates equivalent to at least 75% of the total annual energy consumption of the building. ¾ Exterior Openings: At least 80% of the exterior openings (fenestration) have a Projection Factor* of 0.5 or more *Projection Factor is a ratio of the length of or Prescriptive approach. o Owner-occupied buildings following Prescriptive approach should estimate the total annual\n"
          ]
        }
      ]
    },
    {
      "cell_type": "code",
      "source": [
        "\n"
      ],
      "metadata": {
        "id": "9eVFDdGrkKoD"
      },
      "execution_count": 6,
      "outputs": []
    },
    {
      "cell_type": "code",
      "source": [
        "\n",
        "\n"
      ],
      "metadata": {
        "colab": {
          "base_uri": "https://localhost:8080/"
        },
        "id": "FRkyzpVpyBMI",
        "outputId": "b59184aa-cf53-4965-da7a-e065b3135618"
      },
      "execution_count": 10,
      "outputs": [
        {
          "output_type": "stream",
          "name": "stdout",
          "text": [
            "Top relevant chunks: [('68\\nIndian Green Building Council\\nENERGY  EFFICIENCY\\n', 0.571772), ('78\\nIndian Green Building Council\\nEnhanced Energy Efficiency\\nEE Credit 2\\nPoints: 1-15\\nIntent:\\nOptimise energy consumption, to reduce negative environmental impacts from excessive energy use.\\nCompliance Options:\\n\\x99 Case A - Air-conditioned Buildings:\\nDesign the building to comply with ASHRAE Standard 90.1-2010, Appendix - G (without amendments)\\nthrough Performance based approach (Whole building simulation). Simulation is to be carried out\\nat comfort temperatures of 24 + 2 deg C.\\nPoints are awarded based on energy cost percentage savings as detailed below:\\nPercentage of Energy Cost Savings\\nover ASHRAE Standard 90.1-2010 Base case\\nPoints\\nOwner-occupied\\nTenant-occupied\\nMajor Renovation\\nBuildings\\nBuildings\\nBuildings\\n6%\\n4%\\n4%\\n1\\n8%\\n6%\\n6%\\n2\\n10%\\n8%\\n8%\\n3\\n12%\\n10%\\n10%\\n4\\n14%\\n12%\\n12%\\n5\\n16%\\n14%\\n14%\\n6\\n18%\\n16%\\n16%\\n7\\n20%\\n18%\\n18%\\n8\\n22%\\n20%\\n20%\\n9\\n24%\\n22%\\n22%\\n10\\nENERGY  EFFICIENCY\\n', 0.5980301), ('70\\nIndian Green Building Council\\nMinimum Energy Efficiency\\nEE Mandatory Requirement 2\\nIntent:\\nOptimise energy consumption, to reduce negative environmental impacts from excessive energy use.\\nCompliance Options:\\n\\x99 Case A - Air-conditioned Buildings:\\nDesign the building to comply with Energy Conservation Building Code (Revised Version\\nMay, 2008) (or) ASHRAE Standard 90.1-2010 (without amendments) through one of the following\\napproaches:\\n¾ Option 1 - Performance based approach (Whole building simulation)\\n¾ Option 2 - Prescriptive approach\\nThe total annual energy consumption of the building should not exceed the total base case energy\\nconsumption computed, as per ECBC (or) ASHRAE Standard 90.1-2010.\\nNote:\\n• Project with multiple buildings (including projects with common basement) must\\nindependently meet the Minimum Energy Performance criteria for each building.\\n¾ Option 1 - Performance Based Approach (Whole Building Simulation)\\nDemonstrate compliance of the building performance by whole building simulation, as per the\\nbaselines outlined in ECBC (or) ASHRAE Standard 90.1-2010 (without amendments),\\nAppendix - G. Simulation is to be carried out at comfort temperatures of 24 + 2 deg C.\\nNotes:\\n• In tenant-occupied buildings, if air-conditioning equipment are installed by tenants,\\nthe developer would mandate the installation of efficient air-conditioning equipment\\nfor tenant occupied spaces in tenant agreement, with minimum efficiency requirements\\n(COP/ EER) as per the reference standard/ code.\\nIn cases where air-conditioning equipment is yet to be installed, the proposed case\\nefficiency during simulation shall be same as the base case.\\nENERGY  EFFICIENCY\\n', 0.6784463), ('84\\nIndian Green Building Council\\nconsumption of all lighting fixtures (including lighting fixtures in tenant-occupied spaces\\nand exterior lighting fixtures)  based on the number of hours of operation per day.\\nExemplary Performance:\\nThis credit is eligible for exemplary performance under ID Credit 1 - Innovation in Design Process, if:\\n\\x99 Owner-occupied buildings: On-site renewable energy generation is at least 6% of total annual\\nenergy consumption.\\n\\x99 Tenant-occupied buildings: On-site renewable energy generation is at least 9% total annual\\nlighting energy consumption of the building (interior & exterior areas), including tenant-occupied\\nspaces.\\nENERGY  EFFICIENCY\\n', 0.693301), ('83\\nIGBC Green New Buildings Rating System\\n\\x99 Tenant Occupied-buildings\\nDemonstrate on-site renewable energy generation for at least 2% of total annual lighting energy\\nconsumption of the building (interior & exterior areas), including tenant-occupied spaces.\\nPoints are awarded as below:\\nPercentage of On-site Renewable Energy Generated\\nPoints\\n to the Total Annual Lighting Energy Consumption\\n of the Building\\n> 2 %\\n2\\n> 3 %\\n3\\n> 4 %\\n4\\n> 5 %\\n5\\n> 6 %\\n6\\n> 7 %\\n7\\n> 8 %\\n8\\nNotes:\\n• Renewable energy sources include solar energy, wind power, biomass, etc.\\n• Solar hot water systems cannot be considered as power generation source and cannot be\\nsubtracted from the total annual energy consumption of the proposed case.\\n• The total annual energy consumption can be arrived either through Performance based approach\\nor Prescriptive approach.\\no Owner-occupied buildings following Prescriptive approach should estimate\\nthe total annual energy consumption of the building by calculating the energy consumption\\nof all mechanical and electrical equipment & systems based on the number of hours of\\noperation per day.\\no Tenant-occupied buildings following Prescriptive approach should estimate\\nthe total annual lighting energy consumption of the building by calculating the energy\\nENERGY  EFFICIENCY\\n', 0.69928694)]\n"
          ]
        }
      ]
    },
    {
      "cell_type": "code",
      "source": [
        "\n",
        "\n",
        "\n",
        "\n"
      ],
      "metadata": {
        "colab": {
          "base_uri": "https://localhost:8080/"
        },
        "id": "_Dzpq4HgtwXb",
        "outputId": "35223bf4-41fb-4862-fcfd-209422a8167d"
      },
      "execution_count": 15,
      "outputs": [
        {
          "output_type": "stream",
          "name": "stderr",
          "text": [
            "Setting `pad_token_id` to `eos_token_id`:50256 for open-end generation.\n"
          ]
        },
        {
          "output_type": "stream",
          "name": "stdout",
          "text": [
            "Generated response: energy efficiency in buildings\n",
            "\n",
            "Energy-efficient HVAC systems can reduce power consumption significantly.\n",
            "Lighting upgrades in commercial spaces lead to lower energy costs.\n",
            "\n",
            "Energy efficiency in buildings\n",
            "\n",
            "Energy-efficient HVAC systems can reduce power consumption significantly.\n",
            "\n",
            "Lighting upgrades in commercial spaces lead to lower energy costs.\n",
            "\n",
            "Energy efficiency in buildings\n",
            "\n",
            "Energy-efficient HVAC systems can reduce power consumption significantly.\n",
            "\n",
            "Lighting upgrades in commercial spaces lead to lower energy costs.\n",
            "\n",
            "Energy efficiency in buildings\n",
            "\n",
            "Energy-efficient HVAC systems can reduce power consumption significantly.\n",
            "\n",
            "Lighting upgrades in commercial spaces lead to lower energy costs.\n",
            "\n",
            "Energy efficiency in buildings\n",
            "\n",
            "Energy-efficient HVAC systems can reduce power consumption significantly.\n",
            "\n",
            "Lighting upgrades in commercial spaces lead to lower energy costs.\n",
            "\n",
            "Energy efficiency in buildings\n",
            "\n",
            "Energy-efficient HVAC systems can reduce power consumption significantly.\n",
            "\n",
            "Lighting upgrades in commercial spaces lead to lower energy costs.\n",
            "\n",
            "Energy efficiency in buildings\n",
            "\n",
            "Energy-efficient HVAC systems can reduce power consumption significantly.\n",
            "\n",
            "Lighting upgrades in commercial spaces lead to lower energy costs.\n",
            "\n",
            "Energy efficiency in buildings\n",
            "\n",
            "Energy-efficient HVAC systems can reduce power consumption significantly.\n",
            "\n",
            "Lighting upgrades in commercial spaces lead to lower energy costs.\n",
            "\n",
            "Energy efficiency in buildings\n",
            "\n",
            "Energy-efficient HVAC systems can reduce power consumption significantly.\n",
            "\n",
            "Lighting upgrades in commercial spaces lead to lower energy costs.\n",
            "\n",
            "Energy efficiency in buildings\n",
            "\n",
            "Energy-efficient HVAC systems can reduce power consumption significantly\n"
          ]
        }
      ]
    },
    {
      "cell_type": "code",
      "source": [
        "response\n"
      ],
      "metadata": {
        "colab": {
          "base_uri": "https://localhost:8080/",
          "height": 157
        },
        "id": "B56h8fKet_aX",
        "outputId": "4d21441a-5429-4ac8-dca4-a5f6c4bfbdec"
      },
      "execution_count": 16,
      "outputs": [
        {
          "output_type": "execute_result",
          "data": {
            "text/plain": [
              "'energy efficiency in buildings\\n\\nEnergy-efficient HVAC systems can reduce power consumption significantly.\\nLighting upgrades in commercial spaces lead to lower energy costs.\\n\\nEnergy efficiency in buildings\\n\\nEnergy-efficient HVAC systems can reduce power consumption significantly.\\n\\nLighting upgrades in commercial spaces lead to lower energy costs.\\n\\nEnergy efficiency in buildings\\n\\nEnergy-efficient HVAC systems can reduce power consumption significantly.\\n\\nLighting upgrades in commercial spaces lead to lower energy costs.\\n\\nEnergy efficiency in buildings\\n\\nEnergy-efficient HVAC systems can reduce power consumption significantly.\\n\\nLighting upgrades in commercial spaces lead to lower energy costs.\\n\\nEnergy efficiency in buildings\\n\\nEnergy-efficient HVAC systems can reduce power consumption significantly.\\n\\nLighting upgrades in commercial spaces lead to lower energy costs.\\n\\nEnergy efficiency in buildings\\n\\nEnergy-efficient HVAC systems can reduce power consumption significantly.\\n\\nLighting upgrades in commercial spaces lead to lower energy costs.\\n\\nEnergy efficiency in buildings\\n\\nEnergy-efficient HVAC systems can reduce power consumption significantly.\\n\\nLighting upgrades in commercial spaces lead to lower energy costs.\\n\\nEnergy efficiency in buildings\\n\\nEnergy-efficient HVAC systems can reduce power consumption significantly.\\n\\nLighting upgrades in commercial spaces lead to lower energy costs.\\n\\nEnergy efficiency in buildings\\n\\nEnergy-efficient HVAC systems can reduce power consumption significantly.\\n\\nLighting upgrades in commercial spaces lead to lower energy costs.\\n\\nEnergy efficiency in buildings\\n\\nEnergy-efficient HVAC systems can reduce power consumption significantly'"
            ],
            "application/vnd.google.colaboratory.intrinsic+json": {
              "type": "string"
            }
          },
          "metadata": {},
          "execution_count": 16
        }
      ]
    },
    {
      "cell_type": "code",
      "source": [],
      "metadata": {
        "id": "OkeoX6dctxnv"
      },
      "execution_count": null,
      "outputs": []
    },
    {
      "cell_type": "code",
      "source": [],
      "metadata": {
        "id": "uKvUX6t9txqR"
      },
      "execution_count": null,
      "outputs": []
    },
    {
      "cell_type": "code",
      "source": [],
      "metadata": {
        "id": "Ethuj8xxtxs-"
      },
      "execution_count": null,
      "outputs": []
    },
    {
      "cell_type": "code",
      "source": [],
      "metadata": {
        "id": "gdLR83fttxvh"
      },
      "execution_count": null,
      "outputs": []
    },
    {
      "cell_type": "code",
      "source": [],
      "metadata": {
        "id": "QNkt1QFrtxzB"
      },
      "execution_count": null,
      "outputs": []
    },
    {
      "cell_type": "code",
      "source": [],
      "metadata": {
        "id": "5sfWSTvR778i"
      },
      "execution_count": null,
      "outputs": []
    },
    {
      "cell_type": "code",
      "source": [],
      "metadata": {
        "id": "pnh7GYvV3bH3"
      },
      "execution_count": null,
      "outputs": []
    },
    {
      "cell_type": "code",
      "source": [],
      "metadata": {
        "id": "S8yFZ2IV3bLc"
      },
      "execution_count": null,
      "outputs": []
    },
    {
      "cell_type": "code",
      "source": [],
      "metadata": {
        "id": "xBoD6AiGyH1W"
      },
      "execution_count": null,
      "outputs": []
    },
    {
      "cell_type": "code",
      "source": [],
      "metadata": {
        "id": "t0GBdZXgyBU6"
      },
      "execution_count": null,
      "outputs": []
    },
    {
      "cell_type": "code",
      "source": [],
      "metadata": {
        "id": "Q0f7L5mYkDOI"
      },
      "execution_count": null,
      "outputs": []
    }
  ]
}